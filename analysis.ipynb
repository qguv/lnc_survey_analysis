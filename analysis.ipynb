{
 "cells": [
  {
   "cell_type": "code",
   "execution_count": null,
   "metadata": {
    "collapsed": true
   },
   "outputs": [],
   "source": [
    "#DEBUG CONVENIENCE\n",
    "def showme(xs):\n",
    "    for x in xs:\n",
    "        for k, v in x.items():\n",
    "            if k and v:\n",
    "                print(k + '')\n",
    "                print('  ' + repr(v))\n",
    "        print()"
   ]
  },
  {
   "cell_type": "markdown",
   "metadata": {},
   "source": [
    "# Survey Analysis\n",
    "\n",
    "We will drill through the various questions to try to gain some insight on the differences between the tumblr and reddit sample. First, we need to load the results from a file and clean up our data a bit."
   ]
  },
  {
   "cell_type": "code",
   "execution_count": null,
   "metadata": {
    "collapsed": false
   },
   "outputs": [],
   "source": [
    "# read in file\n",
    "with open('results.csv', newline='') as f:\n",
    "    f.readline()\n",
    "    lines = f.readlines()\n",
    "\n",
    "# clean up question names\n",
    "import re\n",
    "lines[0] = re.sub(r'\\${[^}]*} ?', '', lines[0])\n",
    "\n",
    "# make csv reader\n",
    "import csv\n",
    "responses = list(csv.DictReader(lines, delimiter=','))\n",
    "\n",
    "# get rid of the minors\n",
    "q_major = 'Are you 18 years of age or older?'\n",
    "responses = [ r for r in responses if r[q_major] == 'Yes' ]\n",
    "\n",
    "# get rid of the non-users\n",
    "q_site = 'On which site do you spend more time?'\n",
    "r_nonuser = 'I do not spend any time on either site'\n",
    "responses = [ r for r in responses if r[q_site] != r_nonuser ]\n",
    "\n",
    "# combine the questions about realname-linked usernames\n",
    "rnlinkage_singular = \"Is your username linked in some way to your real name?\"\n",
    "rnlinkage_plural = \"How many of your u...-usernames\"\n",
    "q_rnlinkage = \"How many of your usernames are linked in some way to your real name?\"\n",
    "for r in responses:\n",
    "    singular = r[rnlinkage_singular]\n",
    "    plural = r[rnlinkage_plural]\n",
    "    if singular:\n",
    "        r[q_rnlinkage] = '1' if singular == 'Yes' else '0'\n",
    "    else:\n",
    "        r[q_rnlinkage] = plural"
   ]
  },
  {
   "cell_type": "markdown",
   "metadata": {},
   "source": [
    "# Who responded?\n",
    "\n",
    "Let's see how respondants break down by site. "
   ]
  },
  {
   "cell_type": "code",
   "execution_count": null,
   "metadata": {
    "collapsed": false
   },
   "outputs": [],
   "source": [
    "# pretty plots\n",
    "from plotly.graph_objs import Pie, Figure, Layout, Scatter\n",
    "from plotly.offline import init_notebook_mode; init_notebook_mode()\n",
    "from plotly.offline import iplot as iplot_raw\n",
    "def iplot(title, plots, **kwargs):\n",
    "    iplot_raw(Figure(data=plots, layout=Layout(title=title, **kwargs)), show_link=False)"
   ]
  },
  {
   "cell_type": "code",
   "execution_count": null,
   "metadata": {
    "collapsed": false
   },
   "outputs": [],
   "source": [
    "from collections import Counter\n",
    "\n",
    "q_site = 'On which site do you spend more time?'\n",
    "sites, counts = zip(*Counter(map(lambda x: x[q_site], responses)).items())\n",
    "iplot(\"User sources\", [Pie(labels=sites, values=counts)])"
   ]
  },
  {
   "cell_type": "markdown",
   "metadata": {},
   "source": [
    "# Openness by Site\n",
    "\n",
    "Let's take a first look at how many accounts are connected to real names."
   ]
  },
  {
   "cell_type": "code",
   "execution_count": null,
   "metadata": {
    "collapsed": true
   },
   "outputs": [],
   "source": [
    "def try_apply(apply, x):\n",
    "    try:\n",
    "        return apply(x)\n",
    "    except:\n",
    "        return False\n",
    "\n",
    "def tumblr(items):\n",
    "    return [ x for x in items if x[q_site] == 'tumblr' ]\n",
    "\n",
    "def reddit(items):\n",
    "    return [ x for x in items if x[q_site] == 'reddit' ]\n",
    "\n",
    "def analyze_three_ways(rs, title, question, validator):\n",
    "    plots = []\n",
    "    annotations = []\n",
    "    for sample,      group,     domain,       offset in (\n",
    "        (rs,         \"Overall\", [0, 0.32],    0.09),\n",
    "        (tumblr(rs), \"tumblr\",  [0.34, 0.65], 0.49),\n",
    "        (reddit(rs), \"reddit\",  [0.67, 1],    0.89)):\n",
    "\n",
    "        usernames = [ r[question] for r in sample if validator(r[question]) ]\n",
    "        n_usernames, counts = zip(*Counter(usernames).items())\n",
    "        plots.append(Pie(labels=n_usernames,\n",
    "                         values=counts,\n",
    "                         domain={\"x\": domain},\n",
    "                         name=group,\n",
    "                         hoverinfo=\"value+percent\",\n",
    "                         text=group,\n",
    "                         textinfo=\"label\"))\n",
    "\n",
    "        annotations.append({\"font\": {\"size\": 20},\n",
    "                            \"showarrow\": False,\n",
    "                            \"text\": group,\n",
    "                            \"x\": offset,\n",
    "                            \"y\": 0.95})\n",
    "\n",
    "    iplot(title, plots, annotations=annotations, showlegend=False)"
   ]
  },
  {
   "cell_type": "code",
   "execution_count": null,
   "metadata": {
    "collapsed": false
   },
   "outputs": [],
   "source": [
    "q_usernames = \"How many usernames do you use? Select 0 if you don't have...-usernames\"\n",
    "analyze_three_ways(responses, \"Usernames per account\", q_usernames, lambda x: x and x != '-1')\n",
    "\n",
    "analyze_three_ways(responses, \"Usernames linked to real name\", q_rnlinkage, lambda x: x and x != '-1')\n",
    "\n",
    "q_time = 'About how many hours per day do you use ?-Hours'\n",
    "analyze_three_ways(responses, \"Hours used per day\", q_time, lambda x: x and x != '-1')"
   ]
  }
 ],
 "metadata": {
  "kernelspec": {
   "display_name": "Python 3",
   "language": "python",
   "name": "python3"
  },
  "language_info": {
   "codemirror_mode": {
    "name": "ipython",
    "version": 3
   },
   "file_extension": ".py",
   "mimetype": "text/x-python",
   "name": "python",
   "nbconvert_exporter": "python",
   "pygments_lexer": "ipython3",
   "version": "3.5.0"
  }
 },
 "nbformat": 4,
 "nbformat_minor": 0
}
